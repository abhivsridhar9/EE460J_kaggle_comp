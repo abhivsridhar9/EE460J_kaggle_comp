{
 "cells": [
  {
   "cell_type": "code",
   "execution_count": 51,
   "metadata": {
    "collapsed": true
   },
   "outputs": [],
   "source": [
    "import pandas as pd\n",
    "import numpy as np\n",
    "from numpy import loadtxt\n",
    "from sklearn.metrics._ranking import roc_auc_score\n",
    "from xgboost import XGBClassifier\n",
    "from sklearn.model_selection import train_test_split\n",
    "from sklearn.metrics import accuracy_score"
   ]
  },
  {
   "cell_type": "code",
   "execution_count": 52,
   "outputs": [
    {
     "data": {
      "text/plain": "      f1  f2     f3      f4  f5  f6      f7      f8  f9  f10  ...    f15  \\\n0  25884   1  33.63  118596   1   0  118595  125738   1    3  ...   1945   \n1  34346   1  10.62  118041   1   0  117902  130913   1    1  ...  15385   \n2  34923   1   1.77  118327   1   0  117961  124402   1    2  ...   7547   \n3  80926   1  30.09  118300   1   0  117961  301218   1    0  ...   4933   \n4   4674   1   1.77  119921   1   0  119920  302830   1    0  ...  13836   \n\n      f16     f17  f18     f19  f20  f21  f22  f23  f24  \n0  118450  119184    1  121372    1    1    1    2    1  \n1  117945  292795    1  259173    1    1    1    1    1  \n2  118933  290919    1  118784    1    1    1    1    1  \n3  118458  118331    1  307024    1    1    1    2    1  \n4  142145    4673    1  128230    1    1    1  620    1  \n\n[5 rows x 24 columns]",
      "text/html": "<div>\n<style scoped>\n    .dataframe tbody tr th:only-of-type {\n        vertical-align: middle;\n    }\n\n    .dataframe tbody tr th {\n        vertical-align: top;\n    }\n\n    .dataframe thead th {\n        text-align: right;\n    }\n</style>\n<table border=\"1\" class=\"dataframe\">\n  <thead>\n    <tr style=\"text-align: right;\">\n      <th></th>\n      <th>f1</th>\n      <th>f2</th>\n      <th>f3</th>\n      <th>f4</th>\n      <th>f5</th>\n      <th>f6</th>\n      <th>f7</th>\n      <th>f8</th>\n      <th>f9</th>\n      <th>f10</th>\n      <th>...</th>\n      <th>f15</th>\n      <th>f16</th>\n      <th>f17</th>\n      <th>f18</th>\n      <th>f19</th>\n      <th>f20</th>\n      <th>f21</th>\n      <th>f22</th>\n      <th>f23</th>\n      <th>f24</th>\n    </tr>\n  </thead>\n  <tbody>\n    <tr>\n      <th>0</th>\n      <td>25884</td>\n      <td>1</td>\n      <td>33.63</td>\n      <td>118596</td>\n      <td>1</td>\n      <td>0</td>\n      <td>118595</td>\n      <td>125738</td>\n      <td>1</td>\n      <td>3</td>\n      <td>...</td>\n      <td>1945</td>\n      <td>118450</td>\n      <td>119184</td>\n      <td>1</td>\n      <td>121372</td>\n      <td>1</td>\n      <td>1</td>\n      <td>1</td>\n      <td>2</td>\n      <td>1</td>\n    </tr>\n    <tr>\n      <th>1</th>\n      <td>34346</td>\n      <td>1</td>\n      <td>10.62</td>\n      <td>118041</td>\n      <td>1</td>\n      <td>0</td>\n      <td>117902</td>\n      <td>130913</td>\n      <td>1</td>\n      <td>1</td>\n      <td>...</td>\n      <td>15385</td>\n      <td>117945</td>\n      <td>292795</td>\n      <td>1</td>\n      <td>259173</td>\n      <td>1</td>\n      <td>1</td>\n      <td>1</td>\n      <td>1</td>\n      <td>1</td>\n    </tr>\n    <tr>\n      <th>2</th>\n      <td>34923</td>\n      <td>1</td>\n      <td>1.77</td>\n      <td>118327</td>\n      <td>1</td>\n      <td>0</td>\n      <td>117961</td>\n      <td>124402</td>\n      <td>1</td>\n      <td>2</td>\n      <td>...</td>\n      <td>7547</td>\n      <td>118933</td>\n      <td>290919</td>\n      <td>1</td>\n      <td>118784</td>\n      <td>1</td>\n      <td>1</td>\n      <td>1</td>\n      <td>1</td>\n      <td>1</td>\n    </tr>\n    <tr>\n      <th>3</th>\n      <td>80926</td>\n      <td>1</td>\n      <td>30.09</td>\n      <td>118300</td>\n      <td>1</td>\n      <td>0</td>\n      <td>117961</td>\n      <td>301218</td>\n      <td>1</td>\n      <td>0</td>\n      <td>...</td>\n      <td>4933</td>\n      <td>118458</td>\n      <td>118331</td>\n      <td>1</td>\n      <td>307024</td>\n      <td>1</td>\n      <td>1</td>\n      <td>1</td>\n      <td>2</td>\n      <td>1</td>\n    </tr>\n    <tr>\n      <th>4</th>\n      <td>4674</td>\n      <td>1</td>\n      <td>1.77</td>\n      <td>119921</td>\n      <td>1</td>\n      <td>0</td>\n      <td>119920</td>\n      <td>302830</td>\n      <td>1</td>\n      <td>0</td>\n      <td>...</td>\n      <td>13836</td>\n      <td>142145</td>\n      <td>4673</td>\n      <td>1</td>\n      <td>128230</td>\n      <td>1</td>\n      <td>1</td>\n      <td>1</td>\n      <td>620</td>\n      <td>1</td>\n    </tr>\n  </tbody>\n</table>\n<p>5 rows × 24 columns</p>\n</div>"
     },
     "execution_count": 52,
     "metadata": {},
     "output_type": "execute_result"
    }
   ],
   "source": [
    "df= pd.read_csv('data/train_final.csv')\n",
    "X=df.iloc[:,2:]\n",
    "Y=df.iloc[:,1]\n",
    "X.head()\n"
   ],
   "metadata": {
    "collapsed": false,
    "pycharm": {
     "name": "#%%\n"
    }
   }
  },
  {
   "cell_type": "code",
   "execution_count": 53,
   "outputs": [
    {
     "name": "stdout",
     "output_type": "stream",
     "text": [
      "16383\n",
      "2\n",
      "5170\n",
      "7\n",
      "168\n",
      "162\n",
      "8\n",
      "9\n",
      "118\n",
      "1851\n",
      "7\n",
      "182\n",
      "7\n",
      "157\n",
      "322\n",
      "11349\n",
      "3555\n",
      "432\n",
      "67\n",
      "9\n",
      "322\n",
      "7\n",
      "8\n",
      "7\n",
      "906\n",
      "7\n"
     ]
    }
   ],
   "source": [
    "df.shape\n",
    "\n",
    "for i in df.columns:\n",
    "    print(len(df[i].unique()))"
   ],
   "metadata": {
    "collapsed": false,
    "pycharm": {
     "name": "#%%\n"
    }
   }
  },
  {
   "cell_type": "code",
   "execution_count": 54,
   "outputs": [
    {
     "name": "stdout",
     "output_type": "stream",
     "text": [
      "[1 2 3 5 6 7 4 9]\n"
     ]
    }
   ],
   "source": [
    "print(df['f5'].unique())"
   ],
   "metadata": {
    "collapsed": false,
    "pycharm": {
     "name": "#%%\n"
    }
   }
  },
  {
   "cell_type": "code",
   "execution_count": 55,
   "outputs": [
    {
     "name": "stdout",
     "output_type": "stream",
     "text": [
      "          f1  f2    f3      f4  f5  f6      f7      f8  f9  f10  ...     f15  \\\n",
      "781    31833   1  1.77  117883   1   0  117882  123932   1    4  ...   17147   \n",
      "14482  13877   1  1.77   31010   1   0  118185  147516   1    2  ...    1999   \n",
      "7080   43713   1  1.77  118386   1   0  117961  118785   1    1  ...   18686   \n",
      "15536  43169   1  1.77  118386   1   0  117961  117906   1    1  ...   71171   \n",
      "8108   35539   1  1.77  117940   1   0  117929  117886   1    0  ...   12264   \n",
      "...      ...  ..   ...     ...  ..  ..     ...     ...  ..  ...  ...     ...   \n",
      "7060   43535   1  1.77  118327   1   0  117961  149217   1    0  ...    2610   \n",
      "1088   25992   1  3.54  118225   1   0  117961  127477   1    6  ...   15824   \n",
      "7209   16088   1  1.77  118225   1   0  117961  117906   1    0  ...   17790   \n",
      "8297   31440   1  7.08  118413   1   0  117961  127475   1    0  ...    2296   \n",
      "11657  24013   1  1.77  118300   1   0  117961  240983   1    0  ...  111936   \n",
      "\n",
      "          f16     f17  f18     f19  f20  f21  f22  f23  f24  \n",
      "781    117884  118131    1  118129    1    1    1    1    2  \n",
      "14482  117920   19721    1  118568    1    1    1    1    1  \n",
      "7080   128823  290919    1  118784    1    1    1    1    2  \n",
      "15536  123844  290919    1  118321    1    1    1   18    1  \n",
      "8108   117941   19721    1  117879    1    1    1    3    1  \n",
      "...       ...     ...  ...     ...  ...  ...  ...  ...  ...  \n",
      "7060   121979  290919    1  118321    1    1    1    1    1  \n",
      "1088   120323  119095    1  120591    1    1    1    1    1  \n",
      "7209   119924  290919    1  117905    1    1    1   12    1  \n",
      "8297   277693  118960    1  123737    1    1    1  964    1  \n",
      "11657  118783  290919    1  117905    2    1    1    2    1  \n",
      "\n",
      "[11468 rows x 24 columns]\n"
     ]
    }
   ],
   "source": [
    "# split data into train and test sets\n",
    "seed = 39\n",
    "X_train, X_rem, y_train, y_rem = train_test_split(X,Y,test_size=0.30,random_state=seed)\n",
    "X_test, X_val, y_test, y_val = train_test_split(X_rem, y_rem, test_size =0.5,random_state=seed)\n",
    "print(X_train)"
   ],
   "metadata": {
    "collapsed": false,
    "pycharm": {
     "name": "#%%\n"
    }
   }
  },
  {
   "cell_type": "code",
   "execution_count": 56,
   "outputs": [
    {
     "name": "stdout",
     "output_type": "stream",
     "text": [
      "[22:48:45] WARNING: /Users/travis/build/dmlc/xgboost/src/learner.cc:1095: Starting in XGBoost 1.3.0, the default evaluation metric used with the objective 'binary:logistic' was changed from 'error' to 'logloss'. Explicitly set eval_metric if you'd like to restore the old behavior.\n",
      "[0]\tvalidation_0-logloss:0.47541\tvalidation_1-logloss:0.47604\n",
      "[100]\tvalidation_0-logloss:0.03331\tvalidation_1-logloss:0.13503\n",
      "[189]\tvalidation_0-logloss:0.01249\tvalidation_1-logloss:0.15036\n"
     ]
    },
    {
     "name": "stderr",
     "output_type": "stream",
     "text": [
      "/Library/Frameworks/Python.framework/Versions/3.7/lib/python3.7/site-packages/xgboost/sklearn.py:1146: UserWarning: The use of label encoder in XGBClassifier is deprecated and will be removed in a future release. To remove this warning, do the following: 1) Pass option use_label_encoder=False when constructing XGBClassifier object; and 2) Encode your labels (y) as integers starting with 0, i.e. 0, 1, 2, ..., [num_class - 1].\n",
      "  warnings.warn(label_encoder_deprecation_msg, UserWarning)\n"
     ]
    },
    {
     "data": {
      "text/plain": "XGBClassifier(base_score=0.5, booster='gbtree', colsample_bylevel=1,\n              colsample_bynode=1, colsample_bytree=1, gamma=0, gpu_id=-1,\n              importance_type='gain', interaction_constraints='',\n              learning_rate=0.300000012, max_delta_step=0, max_depth=6,\n              min_child_weight=1, missing=nan, monotone_constraints='()',\n              n_estimators=5000, n_jobs=-1, num_parallel_tree=1,\n              random_state=39, reg_alpha=0, reg_lambda=1, scale_pos_weight=1,\n              seed=39, subsample=1, tree_method='exact', validate_parameters=1,\n              verbosity=None)"
     },
     "execution_count": 56,
     "metadata": {},
     "output_type": "execute_result"
    }
   ],
   "source": [
    "# fit model no training data\n",
    "model=XGBClassifier(n_estimators=5000,  n_jobs=-1, seed=seed)\n",
    "model.fit(X_train, y_train, verbose=100, early_stopping_rounds=100, eval_set=[(X_train,y_train),(X_val,y_val)])"
   ],
   "metadata": {
    "collapsed": false,
    "pycharm": {
     "name": "#%%\n"
    }
   }
  },
  {
   "cell_type": "code",
   "execution_count": 57,
   "outputs": [
    {
     "name": "stdout",
     "output_type": "stream",
     "text": [
      "2457\n",
      "16385\n"
     ]
    }
   ],
   "source": [
    "test_df=pd.read_csv('data/test_final.csv')\n",
    "X_test_output=test_df.drop(labels='Id',axis=1)\n",
    "y_pred_output=model.predict_proba(X=X_test_output)[:,1]\n",
    "y_pred=model.predict_proba(X=X_test)[:,1]\n",
    "print(len(y_pred))\n",
    "y_pred=np.array(y_pred)\n",
    "Id=pd.read_csv('data/test_final.csv')\n",
    "Id=Id.iloc[:,0].values\n",
    "print(len(Id))"
   ],
   "metadata": {
    "collapsed": false,
    "pycharm": {
     "name": "#%%\n"
    }
   }
  },
  {
   "cell_type": "code",
   "execution_count": 58,
   "outputs": [
    {
     "name": "stdout",
     "output_type": "stream",
     "text": [
      "0.8696275634477882\n"
     ]
    }
   ],
   "source": [
    "output_df = pd.DataFrame({\"Id\" : Id, \"Y\" : y_pred_output})\n",
    "output_df.to_csv(\"y_pred.csv\", index=False)\n",
    "score = roc_auc_score(y_test, y_pred)\n",
    "print(score)"
   ],
   "metadata": {
    "collapsed": false,
    "pycharm": {
     "name": "#%%\n"
    }
   }
  },
  {
   "cell_type": "markdown",
   "source": [
    "17, 39 with highest random seeds\n",
    "\n"
   ],
   "metadata": {
    "collapsed": false
   }
  }
 ],
 "metadata": {
  "kernelspec": {
   "display_name": "Python 3",
   "language": "python",
   "name": "python3"
  },
  "language_info": {
   "codemirror_mode": {
    "name": "ipython",
    "version": 2
   },
   "file_extension": ".py",
   "mimetype": "text/x-python",
   "name": "python",
   "nbconvert_exporter": "python",
   "pygments_lexer": "ipython2",
   "version": "2.7.6"
  }
 },
 "nbformat": 4,
 "nbformat_minor": 0
}